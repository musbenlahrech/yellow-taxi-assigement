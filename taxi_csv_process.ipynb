{
 "cells": [
  {
   "cell_type": "code",
   "execution_count": 1,
   "id": "615e654b",
   "metadata": {},
   "outputs": [
    {
     "data": {
      "application/vnd.jupyter.widget-view+json": {
       "model_id": "7035c2a76d6f45a49194a66ce59a5daf",
       "version_major": 2,
       "version_minor": 0
      },
      "text/plain": [
       "VBox()"
      ]
     },
     "metadata": {},
     "output_type": "display_data"
    },
    {
     "name": "stdout",
     "output_type": "stream",
     "text": [
      "Starting Spark application\n"
     ]
    },
    {
     "data": {
      "text/html": [
       "<table>\n",
       "<tr><th>ID</th><th>YARN Application ID</th><th>Kind</th><th>State</th><th>Spark UI</th><th>Driver log</th><th>Current session?</th></tr><tr><td>13</td><td>application_1635248200664_0014</td><td>pyspark</td><td>idle</td><td><a target=\"_blank\" href=\"http://ip-172-31-71-217.ec2.internal:20888/proxy/application_1635248200664_0014/\" class=\"emr-proxy-link\" emr-resource=\"j-31UGHC874BJM7\n",
       "\" application-id=\"application_1635248200664_0014\">Link</a></td><td><a target=\"_blank\" href=\"http://ip-172-31-71-217.ec2.internal:8042/node/containerlogs/container_1635248200664_0014_01_000001/livy\" >Link</a></td><td>✔</td></tr></table>"
      ],
      "text/plain": [
       "<IPython.core.display.HTML object>"
      ]
     },
     "metadata": {},
     "output_type": "display_data"
    },
    {
     "data": {
      "application/vnd.jupyter.widget-view+json": {
       "model_id": "",
       "version_major": 2,
       "version_minor": 0
      },
      "text/plain": [
       "FloatProgress(value=0.0, bar_style='info', description='Progress:', layout=Layout(height='25px', width='50%'),…"
      ]
     },
     "metadata": {},
     "output_type": "display_data"
    },
    {
     "name": "stdout",
     "output_type": "stream",
     "text": [
      "SparkSession available as 'spark'.\n"
     ]
    },
    {
     "data": {
      "application/vnd.jupyter.widget-view+json": {
       "model_id": "",
       "version_major": 2,
       "version_minor": 0
      },
      "text/plain": [
       "FloatProgress(value=0.0, bar_style='info', description='Progress:', layout=Layout(height='25px', width='50%'),…"
      ]
     },
     "metadata": {},
     "output_type": "display_data"
    }
   ],
   "source": [
    "from pyspark.sql import SparkSession\n",
    "\n",
    "from pyspark.sql import SparkSession\n",
    "from pyspark.sql.functions import udf\n",
    "from pyspark.sql.types import StringType\n",
    "from pyspark.sql.types import IntegerType\n",
    "from pyspark.sql.types import DoubleType\n",
    "from pyspark.sql.types import FloatType\n",
    "from pyspark.sql.functions import desc\n",
    "from pyspark.sql.functions import asc\n",
    "from pyspark.sql.functions import sum as Fsum\n",
    "import  pyspark.sql.functions as F\n",
    "\n",
    "import datetime\n",
    "\n",
    "import numpy as np\n",
    "\n",
    "import os\n",
    "import configparser"
   ]
  },
  {
   "cell_type": "code",
   "execution_count": 2,
   "id": "5ea19b76",
   "metadata": {},
   "outputs": [
    {
     "data": {
      "application/vnd.jupyter.widget-view+json": {
       "model_id": "a42bafcbee1e45948457befb0e422f6a",
       "version_major": 2,
       "version_minor": 0
      },
      "text/plain": [
       "VBox()"
      ]
     },
     "metadata": {},
     "output_type": "display_data"
    },
    {
     "data": {
      "application/vnd.jupyter.widget-view+json": {
       "model_id": "",
       "version_major": 2,
       "version_minor": 0
      },
      "text/plain": [
       "FloatProgress(value=0.0, bar_style='info', description='Progress:', layout=Layout(height='25px', width='50%'),…"
      ]
     },
     "metadata": {},
     "output_type": "display_data"
    }
   ],
   "source": [
    "spark = SparkSession \\\n",
    "            .builder \\\n",
    "            .config(\"spark.jars.packages\", \"org.apache.hadoop:hadoop-aws:2.7.0\") \\\n",
    "            .appName(\"Taxi Data\") \\\n",
    "            .getOrCreate()"
   ]
  },
  {
   "cell_type": "markdown",
   "id": "98bbc76e",
   "metadata": {},
   "source": []
  },
  {
   "cell_type": "code",
   "execution_count": 3,
   "id": "432de264",
   "metadata": {},
   "outputs": [
    {
     "data": {
      "application/vnd.jupyter.widget-view+json": {
       "model_id": "c998cc6476834f48a9b50ba9f1f3ddd0",
       "version_major": 2,
       "version_minor": 0
      },
      "text/plain": [
       "VBox()"
      ]
     },
     "metadata": {},
     "output_type": "display_data"
    },
    {
     "data": {
      "application/vnd.jupyter.widget-view+json": {
       "model_id": "",
       "version_major": 2,
       "version_minor": 0
      },
      "text/plain": [
       "FloatProgress(value=0.0, bar_style='info', description='Progress:', layout=Layout(height='25px', width='50%'),…"
      ]
     },
     "metadata": {},
     "output_type": "display_data"
    }
   ],
   "source": [
    "baseUrl= \"s3://taxi-cab-spark-temp/\"\n",
    "taxi_data = baseUrl + \"raw/*.csv\"\n",
    "out_data = baseUrl + \"output/yellow_taxi.parquet\""
   ]
  },
  {
   "cell_type": "code",
   "execution_count": 4,
   "id": "0a8a97b6",
   "metadata": {},
   "outputs": [
    {
     "data": {
      "application/vnd.jupyter.widget-view+json": {
       "model_id": "e9a6d850fafa42ebb639f0aa4f412225",
       "version_major": 2,
       "version_minor": 0
      },
      "text/plain": [
       "VBox()"
      ]
     },
     "metadata": {},
     "output_type": "display_data"
    },
    {
     "data": {
      "application/vnd.jupyter.widget-view+json": {
       "model_id": "",
       "version_major": 2,
       "version_minor": 0
      },
      "text/plain": [
       "FloatProgress(value=0.0, bar_style='info', description='Progress:', layout=Layout(height='25px', width='50%'),…"
      ]
     },
     "metadata": {},
     "output_type": "display_data"
    },
    {
     "name": "stdout",
     "output_type": "stream",
     "text": [
      "Reading taxi CSV files from S3\n",
      "Read completed"
     ]
    }
   ],
   "source": [
    " # Read taxi data file\n",
    "print(\"Reading taxi CSV files from S3\")\n",
    "df = spark.read.option(\"header\",True).csv(taxi_data, mode='PERMISSIVE', \\\n",
    "                         columnNameOfCorruptRecord='corrupt_record').dropna().dropDuplicates()\n",
    "print(\"Read completed\")"
   ]
  },
  {
   "cell_type": "code",
   "execution_count": null,
   "id": "2ab8bb6a",
   "metadata": {},
   "outputs": [
    {
     "data": {
      "application/vnd.jupyter.widget-view+json": {
       "model_id": "199bb4c487ff47b3b53050efab08a211",
       "version_major": 2,
       "version_minor": 0
      },
      "text/plain": [
       "VBox()"
      ]
     },
     "metadata": {},
     "output_type": "display_data"
    },
    {
     "data": {
      "application/vnd.jupyter.widget-view+json": {
       "model_id": "d8cb595057014738bfa2ee1fb0c87899",
       "version_major": 2,
       "version_minor": 0
      },
      "text/plain": [
       "FloatProgress(value=0.0, bar_style='info', description='Progress:', layout=Layout(height='25px', width='50%'),…"
      ]
     },
     "metadata": {},
     "output_type": "display_data"
    }
   ],
   "source": [
    "df.printSchema()\n",
    "df.describe(\"trip_distance\",\"fare_amount\",\"total_amount\").show()"
   ]
  },
  {
   "cell_type": "code",
   "execution_count": 5,
   "id": "f07371df",
   "metadata": {},
   "outputs": [
    {
     "data": {
      "application/vnd.jupyter.widget-view+json": {
       "model_id": "e992eeb7d6ba44fdbd8f51e69becd504",
       "version_major": 2,
       "version_minor": 0
      },
      "text/plain": [
       "VBox()"
      ]
     },
     "metadata": {},
     "output_type": "display_data"
    },
    {
     "data": {
      "application/vnd.jupyter.widget-view+json": {
       "model_id": "",
       "version_major": 2,
       "version_minor": 0
      },
      "text/plain": [
       "FloatProgress(value=0.0, bar_style='info', description='Progress:', layout=Layout(height='25px', width='50%'),…"
      ]
     },
     "metadata": {},
     "output_type": "display_data"
    },
    {
     "name": "stdout",
     "output_type": "stream",
     "text": [
      "root\n",
      " |-- VendorID: integer (nullable = true)\n",
      " |-- tpep_pickup_datetime: timestamp (nullable = true)\n",
      " |-- tpep_dropoff_datetime: timestamp (nullable = true)\n",
      " |-- passenger_count: integer (nullable = true)\n",
      " |-- trip_distance: float (nullable = true)\n",
      " |-- RatecodeID: integer (nullable = true)\n",
      " |-- store_and_fwd_flag: string (nullable = true)\n",
      " |-- PULocationID: integer (nullable = true)\n",
      " |-- DOLocationID: integer (nullable = true)\n",
      " |-- payment_type: integer (nullable = true)\n",
      " |-- fare_amount: float (nullable = true)\n",
      " |-- extra: float (nullable = true)\n",
      " |-- mta_tax: float (nullable = true)\n",
      " |-- tip_amount: float (nullable = true)\n",
      " |-- tolls_amount: string (nullable = true)\n",
      " |-- improvement_surcharge: float (nullable = true)\n",
      " |-- total_amount: float (nullable = true)\n",
      " |-- congestion_surcharge: float (nullable = true)"
     ]
    }
   ],
   "source": [
    "import  pyspark.sql.functions as F\n",
    "dfYellow = df \\\n",
    "                .withColumn(\"VendorID\", df[\"VendorID\"].cast(IntegerType())) \\\n",
    "                .withColumn(\"tpep_dropoff_datetime\", F.to_timestamp(\"tpep_dropoff_datetime\")) \\\n",
    "                .withColumn(\"tpep_pickup_datetime\", F.to_timestamp(\"tpep_pickup_datetime\")) \\\n",
    "                .withColumn(\"passenger_count\", df[\"passenger_count\"].cast(IntegerType())) \\\n",
    "                .withColumn(\"trip_distance\", df[\"trip_distance\"].cast(FloatType())) \\\n",
    "                .withColumn(\"RatecodeID\", df[\"RatecodeID\"].cast(IntegerType())) \\\n",
    "                .withColumn(\"payment_type\", df[\"Payment_type\"].cast(IntegerType())) \\\n",
    "                .withColumn(\"fare_amount\", df[\"Fare_amount\"].cast(FloatType())) \\\n",
    "                .withColumn(\"extra\", df[\"extra\"].cast(FloatType())) \\\n",
    "                .withColumn(\"mta_tax\", df[\"mta_tax\"].cast(FloatType())) \\\n",
    "                .withColumn(\"tip_amount\", df[\"tip_amount\"].cast(FloatType())) \\\n",
    "                .withColumn(\"improvement_surcharge\", df[\"improvement_surcharge\"].cast(FloatType())) \\\n",
    "                .withColumn(\"PULocationID\", df[\"PULocationID\"].cast(IntegerType())) \\\n",
    "                .withColumn(\"DOLocationID\", df[\"DOLocationID\"].cast(IntegerType())) \\\n",
    "                .withColumn(\"total_amount\", df[\"total_amount\"].cast(FloatType())) \\\n",
    "                .withColumn(\"congestion_surcharge\", df[\"congestion_surcharge\"].cast(FloatType()))\n",
    "\n",
    "\n",
    "dfYellow.printSchema()"
   ]
  },
  {
   "cell_type": "code",
   "execution_count": 7,
   "id": "af7fc052",
   "metadata": {},
   "outputs": [
    {
     "data": {
      "application/vnd.jupyter.widget-view+json": {
       "model_id": "b21249275ea94c4c80160280b1e97978",
       "version_major": 2,
       "version_minor": 0
      },
      "text/plain": [
       "VBox()"
      ]
     },
     "metadata": {},
     "output_type": "display_data"
    },
    {
     "data": {
      "application/vnd.jupyter.widget-view+json": {
       "model_id": "",
       "version_major": 2,
       "version_minor": 0
      },
      "text/plain": [
       "FloatProgress(value=0.0, bar_style='info', description='Progress:', layout=Layout(height='25px', width='50%'),…"
      ]
     },
     "metadata": {},
     "output_type": "display_data"
    },
    {
     "name": "stdout",
     "output_type": "stream",
     "text": [
      "+-------+------------------+------------------+------------------+\n",
      "|summary|     trip_distance|       fare_amount|      total_amount|\n",
      "+-------+------------------+------------------+------------------+\n",
      "|  count|          23838930|          23838930|          23838930|\n",
      "|   mean|2.7470826823464476|12.134632555010477|17.918562511342326|\n",
      "| stddev|44.072016766632146| 278.6755982610255| 345.9320460785234|\n",
      "|    min|            -22.18|           -1259.0|           -1260.3|\n",
      "|    max|         167329.45|          998310.0|         1000003.8|\n",
      "+-------+------------------+------------------+------------------+"
     ]
    }
   ],
   "source": [
    "dfYellow.describe(\"trip_distance\",\"fare_amount\",\"total_amount\").show()"
   ]
  },
  {
   "cell_type": "code",
   "execution_count": 8,
   "id": "09fbe3ce",
   "metadata": {},
   "outputs": [
    {
     "data": {
      "application/vnd.jupyter.widget-view+json": {
       "model_id": "ae6abc89943d4e1e8911e18db5bc70f7",
       "version_major": 2,
       "version_minor": 0
      },
      "text/plain": [
       "VBox()"
      ]
     },
     "metadata": {},
     "output_type": "display_data"
    },
    {
     "data": {
      "application/vnd.jupyter.widget-view+json": {
       "model_id": "",
       "version_major": 2,
       "version_minor": 0
      },
      "text/plain": [
       "FloatProgress(value=0.0, bar_style='info', description='Progress:', layout=Layout(height='25px', width='50%'),…"
      ]
     },
     "metadata": {},
     "output_type": "display_data"
    }
   ],
   "source": [
    "dfYellow = dfYellow.filter((dfYellow['trip_distance']>0.1) & (dfYellow['tip_amount']>=0) & (dfYellow['total_amount']>0))"
   ]
  },
  {
   "cell_type": "code",
   "execution_count": null,
   "id": "ba4f922a",
   "metadata": {},
   "outputs": [
    {
     "data": {
      "application/vnd.jupyter.widget-view+json": {
       "model_id": "8dd98e198a6e47e5a9ab2e8cab47e9ca",
       "version_major": 2,
       "version_minor": 0
      },
      "text/plain": [
       "VBox()"
      ]
     },
     "metadata": {},
     "output_type": "display_data"
    },
    {
     "data": {
      "application/vnd.jupyter.widget-view+json": {
       "model_id": "e3a39a5b465f4dbab2e93fb87f90f65f",
       "version_major": 2,
       "version_minor": 0
      },
      "text/plain": [
       "FloatProgress(value=0.0, bar_style='info', description='Progress:', layout=Layout(height='25px', width='50%'),…"
      ]
     },
     "metadata": {},
     "output_type": "display_data"
    }
   ],
   "source": [
    "dfYellow.describe(\"trip_distance\",\"fare_amount\",\"tip_amount\",\"total_amount\").show()"
   ]
  },
  {
   "cell_type": "code",
   "execution_count": null,
   "id": "cdbc907d",
   "metadata": {},
   "outputs": [],
   "source": [
    "dfYellow.count()"
   ]
  },
  {
   "cell_type": "markdown",
   "id": "c8e37ff6",
   "metadata": {},
   "source": [
    "Save to Parquet"
   ]
  },
  {
   "cell_type": "code",
   "execution_count": null,
   "id": "525245bd",
   "metadata": {},
   "outputs": [],
   "source": [
    " dfYellow.write.mode(\"overwrite\").parquet(out_data)"
   ]
  },
  {
   "cell_type": "code",
   "execution_count": null,
   "id": "c22fc786",
   "metadata": {},
   "outputs": [],
   "source": [
    "parDF=spark.read.parquet(out_data)"
   ]
  },
  {
   "cell_type": "code",
   "execution_count": null,
   "id": "ad7e2eda",
   "metadata": {},
   "outputs": [],
   "source": [
    "parDF.printSchema()\n"
   ]
  },
  {
   "cell_type": "code",
   "execution_count": null,
   "id": "b28c532d",
   "metadata": {},
   "outputs": [],
   "source": [
    "parYellowDF = parDF \\\n",
    "                .withColumn(\"hour\", F.hour(\"tpep_pickup_datetime\")) \\\n",
    "                .withColumn(\"month\", F.month(\"tpep_pickup_datetime\")) \\\n",
    "                .withColumn(\"year\", F.year(\"tpep_pickup_datetime\")) \\\n",
    "                .withColumn(\"quarter\", F.quarter(\"tpep_pickup_datetime\")) \\\n",
    "                .withColumn(\"month\", F.month(\"tpep_pickup_datetime\")) \\\n",
    "                .withColumn(\"trip_duration\", (F.col(\"tpep_dropoff_datetime\").cast(\"long\") - F.col(\"tpep_pickup_datetime\").cast(\"long\"))/60.)\n",
    "\n",
    "parYellowDF.printSchema()\n",
    "parYellowDF.describe(\"trip_distance\",\"fare_amount\",\"total_amount\",\"tpep_dropoff_datetime\",\"tpep_pickup_datetime\",\"trip_duration\").show()\n"
   ]
  },
  {
   "cell_type": "code",
   "execution_count": 13,
   "id": "f619b6bb",
   "metadata": {},
   "outputs": [
    {
     "data": {
      "application/vnd.jupyter.widget-view+json": {
       "model_id": "ef6987c8cf5d4d0aa8e98ea6406b2d03",
       "version_major": 2,
       "version_minor": 0
      },
      "text/plain": [
       "VBox()"
      ]
     },
     "metadata": {},
     "output_type": "display_data"
    },
    {
     "data": {
      "application/vnd.jupyter.widget-view+json": {
       "model_id": "",
       "version_major": 2,
       "version_minor": 0
      },
      "text/plain": [
       "FloatProgress(value=0.0, bar_style='info', description='Progress:', layout=Layout(height='25px', width='50%'),…"
      ]
     },
     "metadata": {},
     "output_type": "display_data"
    }
   ],
   "source": [
    "parYellowDF = parYellowDF.filter((parYellowDF['trip_duration']>0))"
   ]
  },
  {
   "cell_type": "code",
   "execution_count": 14,
   "id": "e4642377",
   "metadata": {},
   "outputs": [
    {
     "data": {
      "application/vnd.jupyter.widget-view+json": {
       "model_id": "f4c6bcbbdfee46cd9a77b5d767bd11ae",
       "version_major": 2,
       "version_minor": 0
      },
      "text/plain": [
       "VBox()"
      ]
     },
     "metadata": {},
     "output_type": "display_data"
    },
    {
     "data": {
      "application/vnd.jupyter.widget-view+json": {
       "model_id": "",
       "version_major": 2,
       "version_minor": 0
      },
      "text/plain": [
       "FloatProgress(value=0.0, bar_style='info', description='Progress:', layout=Layout(height='25px', width='50%'),…"
      ]
     },
     "metadata": {},
     "output_type": "display_data"
    }
   ],
   "source": [
    "get_speed = udf(lambda x,y : x/y, FloatType())\n",
    "get_tip_proportion = udf(lambda x,y : x/(y/60), FloatType())\n",
    "\n",
    "parYellowDF = parYellowDF \\\n",
    "                        .withColumn(\"tip_pro\", get_tip_proportion('tip_amount','total_amount')) \\\n",
    "                        .withColumn(\"speed\", get_tip_proportion('trip_distance','trip_duration'))"
   ]
  },
  {
   "cell_type": "code",
   "execution_count": 15,
   "id": "4b3879aa",
   "metadata": {},
   "outputs": [
    {
     "data": {
      "application/vnd.jupyter.widget-view+json": {
       "model_id": "0cdbe8f4a9bd4edeb30dc03adbe81216",
       "version_major": 2,
       "version_minor": 0
      },
      "text/plain": [
       "VBox()"
      ]
     },
     "metadata": {},
     "output_type": "display_data"
    },
    {
     "data": {
      "application/vnd.jupyter.widget-view+json": {
       "model_id": "",
       "version_major": 2,
       "version_minor": 0
      },
      "text/plain": [
       "FloatProgress(value=0.0, bar_style='info', description='Progress:', layout=Layout(height='25px', width='50%'),…"
      ]
     },
     "metadata": {},
     "output_type": "display_data"
    },
    {
     "name": "stdout",
     "output_type": "stream",
     "text": [
      "+-------+------------+------------+\n",
      "|quarter|DOlocationID|max_tip_prop|\n",
      "+-------+------------+------------+\n",
      "|      1|         138|        60.0|\n",
      "|      2|          23|    59.78898|\n",
      "|      3|         265|   59.953884|\n",
      "|      4|         265|   59.869373|\n",
      "+-------+------------+------------+"
     ]
    }
   ],
   "source": [
    "parYellowDF.createOrReplaceTempView(\"rides\")\n",
    "spark.sql(\"\"\"\n",
    "    SELECT t.quarter, t.DOlocationID, r.max_tip_prop\n",
    "    FROM (\n",
    "          SELECT DISTINCT quarter , max(tip_pro) as max_tip_prop\n",
    "        FROM rides\n",
    "        group by quarter\n",
    "    ) r\n",
    "    INNER JOIN rides t\n",
    "    ON t.quarter = r.quarter AND t.tip_pro = r.max_tip_prop \n",
    "    ORDER BY 1\n",
    "\"\"\").show()"
   ]
  },
  {
   "cell_type": "code",
   "execution_count": 16,
   "id": "386336bd",
   "metadata": {},
   "outputs": [
    {
     "data": {
      "application/vnd.jupyter.widget-view+json": {
       "model_id": "e4bd0ef2b3b1446fa5597a8ea0940b01",
       "version_major": 2,
       "version_minor": 0
      },
      "text/plain": [
       "VBox()"
      ]
     },
     "metadata": {},
     "output_type": "display_data"
    },
    {
     "data": {
      "application/vnd.jupyter.widget-view+json": {
       "model_id": "",
       "version_major": 2,
       "version_minor": 0
      },
      "text/plain": [
       "FloatProgress(value=0.0, bar_style='info', description='Progress:', layout=Layout(height='25px', width='50%'),…"
      ]
     },
     "metadata": {},
     "output_type": "display_data"
    },
    {
     "name": "stdout",
     "output_type": "stream",
     "text": [
      "+----+---------+\n",
      "|hour|max_speed|\n",
      "+----+---------+\n",
      "|  12|  35640.0|\n",
      "|   1|  14940.0|\n",
      "|   6|21155.998|\n",
      "|   3|  11400.0|\n",
      "|   4|   7200.0|\n",
      "|   8|  12240.0|\n",
      "|  11|  39120.0|\n",
      "|  19|  26820.0|\n",
      "|  23|31139.998|\n",
      "|  21|  44730.0|\n",
      "|  14|  34020.0|\n",
      "|  16|  20880.0|\n",
      "|  20|  31320.0|\n",
      "|   5|  12600.0|\n",
      "|  15|58679.996|\n",
      "|   2|  16200.0|\n",
      "|  18|  34380.0|\n",
      "|  13|  23040.0|\n",
      "|  17|  42120.0|\n",
      "|   7|  33840.0|\n",
      "+----+---------+\n",
      "only showing top 20 rows"
     ]
    }
   ],
   "source": [
    "parYellowDF.createOrReplaceTempView(\"rides\")\n",
    "spark.sql(\"\"\"\n",
    "    SELECT DISTINCT hour , max(speed) as max_speed\n",
    "    FROM rides\n",
    "    group by hour\n",
    "\"\"\").show()"
   ]
  },
  {
   "cell_type": "code",
   "execution_count": 23,
   "id": "02917294",
   "metadata": {},
   "outputs": [
    {
     "data": {
      "application/vnd.jupyter.widget-view+json": {
       "model_id": "9a1e6b26d9e646b1ad9ed3e8250f936d",
       "version_major": 2,
       "version_minor": 0
      },
      "text/plain": [
       "VBox()"
      ]
     },
     "metadata": {},
     "output_type": "display_data"
    },
    {
     "data": {
      "application/vnd.jupyter.widget-view+json": {
       "model_id": "",
       "version_major": 2,
       "version_minor": 0
      },
      "text/plain": [
       "FloatProgress(value=0.0, bar_style='info', description='Progress:', layout=Layout(height='25px', width='50%'),…"
      ]
     },
     "metadata": {},
     "output_type": "display_data"
    },
    {
     "name": "stdout",
     "output_type": "stream",
     "text": [
      "+--------+--------------------+---------------------+---------------+-------------+----------+------------------+------------+------------+------------+-----------+-----+-------+----------+------------+---------------------+------------+--------------------+----+-----+----+-------+-----------------+---------+---------+\n",
      "|VendorID|tpep_pickup_datetime|tpep_dropoff_datetime|passenger_count|trip_distance|RatecodeID|store_and_fwd_flag|PULocationID|DOLocationID|payment_type|fare_amount|extra|mta_tax|tip_amount|tolls_amount|improvement_surcharge|total_amount|congestion_surcharge|hour|month|year|quarter|    trip_duration|  tip_pro|    speed|\n",
      "+--------+--------------------+---------------------+---------------+-------------+----------+------------------+------------+------------+------------+-----------+-----+-------+----------+------------+---------------------+------------+--------------------+----+-----+----+-------+-----------------+---------+---------+\n",
      "|       2| 2020-01-01 00:12:40|  2020-01-01 00:18:07|              1|         0.69|         1|                 N|          79|          79|           1|        5.5|  0.5|    0.5|      2.32|           0|                  0.3|       11.62|                 2.5|   0|    1|2020|      1|             5.45|11.979345|  7.59633|\n",
      "|       1| 2020-01-01 00:29:45|  2020-01-01 00:42:18|              2|          2.3|         1|                 N|          68|         125|           1|       10.5|  3.0|    0.5|       0.0|           0|                  0.3|        14.3|                 2.5|   0|    1|2020|      1|            12.55|      0.0|10.996016|\n",
      "|       1| 2020-01-01 00:23:50|  2020-01-01 00:55:47|              4|          2.7|         1|                 N|         234|          48|           1|       19.5|  3.0|    0.5|       2.0|           0|                  0.3|        25.3|                 2.5|   0|    1|2020|      1|            31.95| 4.743083|5.0704226|\n",
      "|       2| 2020-01-01 00:31:52|  2020-01-01 00:38:06|              1|         0.58|         1|                 N|         142|         142|           1|        5.5|  0.5|    0.5|       1.0|           0|                  0.3|        10.3|                 2.5|   0|    1|2020|      1|6.233333333333333|5.8252425|5.5828876|\n",
      "|       2| 2020-01-01 00:58:03|  2020-01-01 01:44:41|              1|         4.98|         1|                 N|         144|         237|           2|       29.0|  0.5|    0.5|       0.0|           0|                  0.3|        32.8|                 2.5|   0|    1|2020|      1|46.63333333333333|      0.0| 6.407434|\n",
      "+--------+--------------------+---------------------+---------------+-------------+----------+------------------+------------+------------+------------+-----------+-----+-------+----------+------------+---------------------+------------+--------------------+----+-----+----+-------+-----------------+---------+---------+\n",
      "only showing top 5 rows"
     ]
    }
   ],
   "source": [
    "parYellowDF.show(5)"
   ]
  },
  {
   "cell_type": "code",
   "execution_count": null,
   "id": "990dc4f0",
   "metadata": {},
   "outputs": [],
   "source": []
  }
 ],
 "metadata": {
  "kernelspec": {
   "display_name": "PySpark",
   "language": "",
   "name": "pysparkkernel"
  },
  "language_info": {
   "codemirror_mode": {
    "name": "python",
    "version": 3
   },
   "mimetype": "text/x-python",
   "name": "pyspark",
   "pygments_lexer": "python3"
  }
 },
 "nbformat": 4,
 "nbformat_minor": 5
}
